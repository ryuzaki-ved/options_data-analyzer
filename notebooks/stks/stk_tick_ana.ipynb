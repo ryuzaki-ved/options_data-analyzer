{
 "cells": [
  {
   "cell_type": "code",
   "execution_count": 1,
   "id": "c45861f3",
   "metadata": {},
   "outputs": [
    {
     "name": "stdout",
     "output_type": "stream",
     "text": [
      "Data loaded successfully!\n",
      "File path: D:\\Market Projects\\options_data_analyzer\\Aug '25\\Aug 07 Exp\\07 Aug\\BEL_EQ.csv\n",
      "Shape: (18250, 5)\n",
      "Columns: ['date', 'price', 'qty', 'trnvr', 'cum_trnvr']\n",
      "\n",
      "First few rows:\n",
      "                     date   price    qty        trnvr    cum_trnvr\n",
      "0  2025-08-07 09:15:00 AM  386.85  65740  25431519.00  25431519.00\n",
      "1  2025-08-07 09:15:01 AM  386.65      0         0.00  25431519.00\n",
      "2  2025-08-07 09:15:01 AM  386.30      0         0.00  25431519.00\n",
      "3  2025-08-07 09:15:01 AM  386.30    895    345738.50  25777257.50\n",
      "4  2025-08-07 09:15:01 AM  386.75   1401    541836.75  26319094.25\n",
      "\n",
      "Data types:\n",
      "date          object\n",
      "price        float64\n",
      "qty            int64\n",
      "trnvr        float64\n",
      "cum_trnvr    float64\n",
      "dtype: object\n",
      "\n",
      "Basic statistics:\n",
      "              price            qty         trnvr     cum_trnvr\n",
      "count  18250.000000   18250.000000  1.825000e+04  1.825000e+04\n",
      "mean     386.537181     630.694301  2.439435e+05  2.317732e+09\n",
      "std        1.570300    2651.792039  1.026096e+06  1.129666e+09\n",
      "min      383.500000       0.000000  0.000000e+00  2.543152e+07\n",
      "25%      385.150000       0.000000  0.000000e+00  1.473757e+09\n",
      "50%      386.400000      10.000000  3.850250e+03  2.248665e+09\n",
      "75%      387.950000     331.000000  1.284426e+05  3.123428e+09\n",
      "max      390.200000  153858.000000  5.955074e+07  4.451969e+09\n"
     ]
    }
   ],
   "source": [
    "import pandas as pd\n",
    "import os\n",
    "\n",
    "# Define the file path\n",
    "file_path = r\"D:\\Market Projects\\options_data_analyzer\\Aug '25\\Aug 07 Exp\\07 Aug\\BEL_EQ.csv\"\n",
    "\n",
    "# Load CSV with pandas\n",
    "# Using default encoding (utf-8) and comma delimiter\n",
    "# The file appears to have standard CSV format\n",
    "df = pd.read_csv(file_path)\n",
    "\n",
    "# Display basic information about the loaded data\n",
    "print(\"Data loaded successfully!\")\n",
    "print(f\"File path: {file_path}\")\n",
    "print(f\"Shape: {df.shape}\")\n",
    "print(f\"Columns: {list(df.columns)}\")\n",
    "print(\"\\nFirst few rows:\")\n",
    "print(df.head())\n",
    "print(\"\\nData types:\")\n",
    "print(df.dtypes)\n",
    "print(\"\\nBasic statistics:\")\n",
    "print(df.describe())"
   ]
  }
 ],
 "metadata": {
  "kernelspec": {
   "display_name": "Python 3",
   "language": "python",
   "name": "python3"
  },
  "language_info": {
   "codemirror_mode": {
    "name": "ipython",
    "version": 3
   },
   "file_extension": ".py",
   "mimetype": "text/x-python",
   "name": "python",
   "nbconvert_exporter": "python",
   "pygments_lexer": "ipython3",
   "version": "3.12.6"
  }
 },
 "nbformat": 4,
 "nbformat_minor": 5
}
